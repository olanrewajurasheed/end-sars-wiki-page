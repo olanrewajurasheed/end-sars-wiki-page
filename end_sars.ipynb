{
 "cells": [
  {
   "cell_type": "code",
   "execution_count": 30,
   "metadata": {},
   "outputs": [],
   "source": [
    "import requests\n",
    "response = requests.get('https://en.wikipedia.org/wiki/End_SARS')\n",
    "response.content\n",
    "from bs4 import BeautifulSoup\n",
    "soup = BeautifulSoup(response.content, 'html5lib')\n",
    "text = soup.get_text(strip=True)\n"
   ]
  },
  {
   "cell_type": "code",
   "execution_count": 2,
   "metadata": {},
   "outputs": [],
   "source": [
    "from textblob import TextBlob\n",
    "text = TextBlob(text)"
   ]
  },
  {
   "cell_type": "code",
   "execution_count": 4,
   "metadata": {},
   "outputs": [
    {
     "data": {
      "text/plain": [
       "TextBlob(\"End SARS - Wikipediadocument.documentElement.className=\"client-js\";RLCONF={\"wgBreakFrames\":!1,\"wgSeparatorTransformTable\":[\"\",\"\"],\"wgDigitTransformTable\":[\"\",\"\"],\"wgDefaultDateFormat\":\"dmy\",\"wgMonthNames\":[\"\",\"January\",\"February\",\"March\",\"April\",\"May\",\"June\",\"July\",\"August\",\"September\",\"October\",\"November\",\"December\"],\"wgRequestId\":\"8b087be6-922f-4dc0-8e5e-c994fb5e29c9\",\"wgCSPNonce\":!1,\"wgCanonicalNamespace\":\"\",\"wgCanonicalSpecialPageName\":!1,\"wgNamespaceNumber\":0,\"wgPageName\":\"End_SARS\",\"wgTitle\":\"End SARS\",\"wgCurRevisionId\":990196888,\"wgRevisionId\":990196888,\"wgArticleId\":56194341,\"wgIsArticle\":!0,\"wgIsRedirect\":!1,\"wgAction\":\"view\",\"wgUserName\":null,\"wgUserGroups\":[\"*\"],\"wgCategories\":[\"CS1 maint: extra text: authors list\",\"CS1 errors: external links\",\"Articles with short description\",\"Short description is different from Wikidata\",\"Wikipedia semi-protected pages\",\"EngvarB from October 2020\",\"Use dmy dates from October 2020\",\"Pages using multiple image with auto scaled images\",\n",
       "\"Twitter username not in Wikidata\",\"2016 establishments in Nigeria\",\"21st-century social movements\",\"Law enforcement in Nigeria\",\"Protests in Nigeria\",\"2020 protests\",\"Protests against police brutality\",\"Criticism of police brutality\",\"Hashtags\",\"Slogans\",\"Social movements in Nigeria\",\"Ongoing protests\",\"Human rights in Nigeria\"],\"wgPageContentLanguage\":\"en\",\"wgPageContentModel\":\"wikitext\",\"wgRelevantPageName\":\"End_SARS\",\"wgRelevantArticleId\":56194341,\"wgIsProbablyEditable\":!1,\"wgRelevantPageIsProbablyEditable\":!1,\"wgRestrictionEdit\":[\"autoconfirmed\"],\"wgRestrictionMove\":[\"autoconfirmed\"],\"wgMediaViewerOnClick\":!0,\"wgMediaViewerEnabledByDefault\":!0,\"wgPopupsReferencePreviews\":!1,\"wgPopupsConflictsWithNavPopupGadget\":!1,\"wgVisualEditor\":{\"pageLanguageCode\":\"en\",\"pageLanguageDir\":\"ltr\",\"pageVariantFallbacks\":\"en\"},\"wgMFDisplayWikibaseDescriptions\":{\"search\":!0,\"nearby\":!0,\"watchlist\":!0,\"tagline\":!1},\"wgWMESchemaEditAttemptStepOversample\":!1,\n",
       "\"wgULSCurrentAutonym\":\"English\",\"wgNoticeProject\":\"wikipedia\",\"wgCentralAuthMobileDomain\":!1,\"wgEditSubmitButtonLabelPublish\":!0,\"wgULSPosition\":\"interlanguage\",\"wgWikibaseItemId\":\"Q48811126\"};RLSTATE={\"ext.globalCssJs.user.styles\":\"ready\",\"site.styles\":\"ready\",\"noscript\":\"ready\",\"user.styles\":\"ready\",\"ext.globalCssJs.user\":\"ready\",\"user\":\"ready\",\"user.options\":\"loading\",\"ext.cite.styles\":\"ready\",\"skins.vector.styles.legacy\":\"ready\",\"jquery.makeCollapsible.styles\":\"ready\",\"mediawiki.toc.styles\":\"ready\",\"ext.visualEditor.desktopArticleTarget.noscript\":\"ready\",\"ext.uls.interlanguage\":\"ready\",\"ext.wikimediaBadges\":\"ready\",\"wikibase.client.init\":\"ready\"};RLPAGEMODULES=[\"ext.cite.ux-enhancements\",\"site\",\"mediawiki.page.ready\",\"jquery.makeCollapsible\",\"mediawiki.toc\",\"skins.vector.legacy.js\",\"ext.gadget.ReferenceTooltips\",\"ext.gadget.charinsert\",\"ext.gadget.extra-toolbar-buttons\",\"ext.gadget.refToolbar\",\"ext.gadget.switcher\",\"ext.centralauth.centralautologin\",\"mmv.head\",\n",
       "\"mmv.bootstrap.autostart\",\"ext.popups\",\"ext.visualEditor.desktopArticleTarget.init\",\"ext.visualEditor.targetLoader\",\"ext.eventLogging\",\"ext.wikimediaEvents\",\"ext.navigationTiming\",\"ext.uls.compactlinks\",\"ext.uls.interface\",\"ext.cx.eventlogging.campaigns\",\"ext.quicksurveys.init\",\"ext.centralNotice.geoIP\",\"ext.centralNotice.startUp\"];(RLQ=window.RLQ||[]).push(function(){mw.loader.implement(\"user.options@1hzgi\",function($,jQuery,require,module){/*@nomin*/mw.user.tokens.set({\"patrolToken\":\"+\\\\\",\"watchToken\":\"+\\\\\",\"csrfToken\":\"+\\\\\"});\n",
       "});});End SARSFrom Wikipedia, the free encyclopediaJump to navigationJump to searchDecentralized social movement against police brutality in NigeriaEnd SARS.mw-parser-output .tmulti .thumbinner{display:flex;flex-direction:column}.mw-parser-output .tmulti .trow{display:flex;flex-direction:row;clear:left;flex-wrap:wrap;width:100%;box-sizing:border-box}.mw-parser-output .tmulti .tsingle{margin:1px;float:left}.mw-parser-output .tmulti .theader{clear:both;font-weight:bold;text-align:center;align-self:center;background-color:transparent;width:100%}.mw-parser-output .tmulti .thumbcaption{background-color:transparent}.mw-parser-output .tmulti .text-align-left{text-align:left}.mw-parser-output .tmulti .text-align-right{text-align:right}.mw-parser-output .tmulti .text-align-center{text-align:center}@media all and (max-width:720px){.mw-parser-output .tmulti .thumbinner{width:100%!important;box-sizing:border-box;max-width:none!important;align-items:center}.mw-parser-output .tmulti .trow{justify-content:center}.mw-parser-output .tmulti .tsingle{float:none!important;max-width:100%!important;box-sizing:border-box;text-align:center}.mw-parser-output .tmulti .tsingle .thumbcaption{text-align:left}.mw-parser-output .tmulti .trow>.thumbcaption{text-align:center}}Date2017 – presentLocationInternational, largely in NigeriaCaused byKillings, assaults, and harassment bySARSofficials in Nigeria; lack offreedom of expression; social media campaign by Nigerian Twitter communityMethodsProtest,demonstrations,online activism,civil disobedience,marchesStatusOngoingSARS unit dissolved on 11 October 2020Parties to the civil conflictProtesters:(no centralised leadership)Government of NigeriaNigerian Armed ForcesNigerian ArmyNigerian PoliceSARSPro-government citizensLead figuresNot SpecifiedMuhammadu BuhariBabajide Sanwo-OluMohammed AdamuNyesom WikeMaigari DingyadiCasualtiesDeath(s)51 civilians,[1]11policemen,[1]7soldiers[1]Official websiteEnd SARSis a decentralisedsocial movement, and series ofmass protestsagainstpolice brutalityinNigeria. The slogan calls for the disbanding of theSpecial Anti-Robbery Squad(SARS), a notorious unit of theNigerian Policewith a long record of abuses.[2][3]The protests which takes its name from the slogan started in 2017 as aTwittercampaign using thehashtag#ENDSARS to demand the disbanding of the unit by theNigerian government.[4][5][6]After experiencing a revitalisation in October 2020 following more revelations of the abuses of the unit,mass demonstrationsoccurred throughout the major cities of Nigeria, accompanied by vociferous outrage on social media platforms. About 28 million tweets bearing the hashtag have been accumulated onTwitteralone.[7]Solidarity protests and demonstrations by Nigerians indiasporaand sympathizers occurred in many major cities of the world. The protests is notable for its patronage by a demographic that is made of entirely young Nigerians.[8][9]The movement has since expanded to include demands for good and acountable governance.Within a few days of renewed protests, on 11 October 2020, the Nigerian Police Force announced that it was dissolving the unit with immediate effect. The move was widely received as a triumph of the demonstrations.[10]However, it was noted in many quarters that similar announcements had been made in recent years to pacify the public without the unit actually being disbanded, and that the government had merely planned to reassign and review SARS officers to medical centres rather than disband the unit entirely.[11]Protests have continued accordingly, and the Nigerian government has maintained a pattern of violent repression including the killing of demonstrators.[12]There have been international demonstrations in solidarity with those happening in the country, and the movement has also grown increasingly critical ofMuhammadu Buhari'sgovernment response to the protests.[13]SARS officers have been alleged to profile young Nigerians, mostly males, based on fashion choices, tattoos and hairstyles. They were also known to mount illegal road blocks, conduct unwarranted checks and searches, arrest and detain without warrant or trial, rape women, and extort young male Nigerians for driving exotic vehicles and using laptops andiPhones.[14]Nigerians have shared both stories and video evidence of how officers of SARS engaged inkidnapping, murder, theft, rape, torture,unlawful arrests, humiliation,unlawful detention,extrajudicial killingsandextortionof Nigerian citizens. A large section of the victims of the abuses of SARS have been young male Nigerians.[15]Contents1Background2Initial protests and reaction3October 2020 second wave3.1Five demands3.2Nigerian Government response3.3Central bank freezes account of protesters4Timeline of events4.18 October4.29 October4.310 October4.411 October4.512 October4.613 October4.714 October4.815 October4.916 October4.1020 October - The Lekki Toll Gate Massacre4.1121 October4.1222 October5Nigerian protests by state5.1Delta State5.2Anambra State5.3Abia State5.4Osun State5.5Rivers State5.6Ogun State5.7Enugu State5.8Ebonyi State5.9Edo State5.10Plateau State5.10.120 October6Voluntary donations7International protests7.1Canada7.2Germany7.3Ireland7.3.1Dublin7.4United Kingdom7.4.1London7.4.2Manchester7.5United States7.5.1New York7.5.2Michigan7.6Social media8ReferencesBackgroundThe Special Anti-Robbery Squad (SARS) was a branch of theNigeria Police Forceunder theState Criminal Investigation and Intelligence Department(SCIID). It was founded in late 1992 as one of the 14 units in the Force Criminal Investigation and Intelligence Department, which was established to detain, investigate, and prosecute people involved in crimes like armed robbery, kidnapping, and other violent crimes.[16]The squad was created as a masked police unit tto perform undercover operations against violent crimes likearmed robbery, car snatching,kidnapping,cattle rustling, and the bearing and use of illegal firearms.[17]SARS had been accused of several human rights violations, illegal \"stop and searches\", illegal arrests and detentions, extrajudicial killings, sexual harassment of women and brutalising of young male Nigerians. The human rights abuses were documented in trending videos on social media.[18]In 2017, Nigerian activists, youth and celebrities across the nation took to the streets in a peaceful protest to spread awareness of SARS brutality and extortions and to demand its disbanding. The protests also moved to social media using the hashtag #EndSARS.[19][20][21]A 2016 report byAmnesty International, indicted SARS maintaining that the squad was responsible for human rights abuses, cruelty, degrading treatment of Nigerians in their custody, and other widespread torture. Some of the human rights abuses by SARS include the shooting of their detainees in the leg, mock executions and threats of execution, hanging and physical assault.[22]A 2020 publication by the organisation documented 82 cases of abuses and extra judicial killings by SARS between January 2017 and May 2020.[23]Initial protests and reactionAmnesty Internationalaccused the SARS officials of regularly detaining young maleNigeriansillegally and extorting money from their relatives.[4]In 2016, a human rights activist, Segun Awosanya popularly known asSegalinkstarted EndSARS campaign on social media prompting police authority to announce reform of the police unit but nothing was achieved at the time.[24]In 2018, Nigerian rapper Michael Ugochukwu Stephens professionally known Ruggedman joined the campaign to end police brutality by releasing a single titled,Is Police Your Friend?[25]In 2017, a petition signed by 10,195 people was submitted toNigeria's National Assemblycalling for a total disbandment of SARS.[26]A fewSenatorsbacked the call for total disbandment of the unit.[27]Consideration was given to reforming the force, rather than full disbandment due to the number of cases falling.[28][29]The campaigners moved fromsocial mediausing the #EndSARS hashtag to organised, peaceful protests inAbuja,Lagos,Ibadan,Osun,Benin,Ughelli,Warri,Ilorin,Ogbomosho,Owerri,Jos,Kaduna,Calabar[30][20]and other Nigerian cities and states, threatening to continue if the government refused to disband the force.[31][32][33]In response to the campaign, Nigeria Police Force Public Relations OfficerJimoh Moshoodaccused the campaigners of being \"criminals\".[34]Despite this,Inspector Generalof Nigeria Police ForceIbrahim K. Idrisordered the reform and reorganisation of SARS.[35]October 2020 second waveOn Saturday 3 October 2020, a video showing a SARS police officer shooting a young Nigerian in front of Wetland Hotel,Ughelli,Delta Statetrended on the Internet. It was alleged that the police officers took away the young man's vehicle – aLexusSUV.[36]The trending video caused public outcry on social media, especially on Twitter, with the #ENDSARS hashtag trending.[37]Just as the ENDSARS trend began on Twitter, on Monday 5 October 2020, another report surfaced of SARS officers killing a 20-year-old upcoming musician named Daniel Chibuike, popularly called Sleek in his neighbourhood.[38]Sleek was said to be sitting in front of a hotel with a friend when the SARS officers approached them, prompting them to flee. According to an eyewitness, the SARS men pursued the pair, shouting \"thief\", before shooting Sleek as they ran through a supermarket.[38]His friend was arrested.On Thursday 8 October 2020, nationwide protests on ENDSARS started after weeks of outrage and anger with videos and pictures showing police brutality, harassment and extortion in Nigeria. The protests were led predominantly by young Nigerians in different cities alongside many activists and celebrities.[39]Nigeria Police Forcedisrupted the protests in some cities, throwing teargas, using water cannons and shooting at unarmed peaceful protesters as seen inAbujaandOsun.[40]This led to the death of Jimoh Isiaq in Ogbomoso,OyoState.[41][14][42][43][44]By Wednesday, 14 October 2020, the End SARS protests were still on-going with young people in different parts of Nigeria intensifying their calls for reforms and accountability in police operations.[45]Five demandsOn Sunday, 11 October 2020, the protestors made a list of five demands to be met by the Federal Government of Nigeria. The demands which were signed by 'A Nigerian Youth' demanded for the immediate release of all arrested during the protests as well as justice and compensation for all who died through police brutality in Nigeria. They also demanded that an independent body be set up within 10 days to investigate and prosecute all reports of police misconduct. The protestors also asked for the psychological evaluation and retraining of SARS operatives before they are deployed to any other police unit. Lastly, they asked for adequate increase in the salaries for officers of the Nigerian police.[46]Nigerian Government responseIn response to the public outcry on police brutality, the Inspector-General of Nigeria Police banned the FSARS, Special Tactical Squad (STS), Intelligence Response Team (IRT), Anti-Cultism Squad and other tactical units from mounting of roadblocks, checkpoints, stop-and-search and other routine and patrols. Similar bans had been announced multiple times over the previous four years, causing citizens of Nigeria to question whether the bans would actually be upheld. There were further reports of SARS officers involved in killings across the country.[47]As this was the fourth time that the Nigerian government had announced a similar ban on SARS activity,[48]protesters insisted that the notorious police unit be entirely disbanded and wide-ranging reform of the force to follow.[49]Central bank freezes account of protestersOn Tuesday, 20 October 2020, theCentral Bank of Nigeriaand its Governor,Godwin Emefieleobtained an exparte motion to freeze the accounts of notable participants in the End SARS protest. In an exclusive report byPeoples Gazette, court documents showed that theCentral Bank of Nigeriafailed to give any justification for the freezing order. Twenty protesters with banking withAccess Bank plc,Fidelity Bank Nigeria,First Bank of Nigeria,Guaranty Trust Bank,United Bank for AfricaandZenith Bankhad all accounts linked to them placed under \"post no debit\".[50][51]Timeline of events8 OctoberLagos State governor Babajide Sanwo-Olu, addressing protesters gathered at Alausa, LagosNigerian youths protested on EndSARS at theLagos State Governor's Houseon Thursday 8 October and slept at the gate of the government house till Friday 9 October 2020 when the Deputy Governor addressed the protesters.[52]Among the Lagos State EndSARS Protesters were celebritiesFalz,Runtown,Don Jazzy,Olu Jacobs,Eedris Abdulkareemand a host of others including several comedians and other media personalities.[53]9 OctoberResting protesters in Lagos, NigeriaOn Friday, 9 October 2020, the Deputy Governor of Lagos State,Femi Hamzataddressed the protesters and acknowledged that police officers do not have the right to trample on the rights of law-abiding citizens based on their appearance or on items in their possession. He condemned police brutality and promised that the Lagos government will take action necessary to end it.[54][55]The deputy governor also stated that four years previously, he had been harassed by SARS police who were not in uniform.[56][57]The Lagos State House of Assembly held an emergency parliamentary sitting to deliberate the petition of the EndSARS protesters. The parliamentarians made a seven-point resolution, as follows: Nigeria's Senate and House of Assembly should probe FSARS, the Police Commissioner should protect protesters, molestation of youths should be stopped, institution of public inquiry on the extrajudicial killings by Senate President and the House of Representatives Speaker, proscription of SARS and its replacement by a new unit with a clear code of conduct, and sanction of illegalities.[58]Nigerian youths protested on EndSARS,[59]at the headquarters ofNigeria Police Forcein Federal Capital Territory,Abujaand vow to camp at headquarters till Inspector-General of Police,Mohammed Adamu, addresses them.[60]10 OctoberWhile the protest continued on Saturday 10 October 2020, the Nigerian police started dispersing the youths with tear gas and water. The co-convener ofBring Back Our Girls,Aisha Yesufu, and other protesters were reportedly manhandled by the Nigerian police.[61]The EndSARS protest inOgbomosho,Oyo Stateturned violent as Nigerian police were alleged to have injured seven protesters and shot dead a young man known as Jimoh Isiaka during the protest, Traditional Rulers used the Nigerian Police to forcefully send back protesters. Jimoh Isiaka was taken to Bowen University Teaching Hospital for medical care and later died at the hospital. In response to the death of the protesters, the commissioner of police of Oyo State, Nwachukwu Enwonwu, denied the allegation that the police killed the protester. He said that the police used tear gas to prevent protesters from attacking and entering the police station. The governor of Oyo State,Seyi Makindesent a condolence message on the demise of the protester and promised to investigate the incident.[62][63]11 OctoberOn Sunday, 11 October 2020, Nigeria's Inspector-General of Police,Mohammed Adamuannounced the \"dissolution\" of SARS. Many Nigerians within the movement criticised the announcement, however, pointing out that similar promises had been made in earlier years and that the government's plan was to reassign SARS officers to other police departments rather than eliminate them from the force entirely.[11]The protests continue despite the \"dissolution\" as many do not believe the pronouncement.[64]David Adeleke, a popular musician known asDavidojoined a group of #EndSARS protesters in Abuja to call for the end police brutality and the notorious police unit in the city. The police started dispersing the protesters with tear gas, live bullets and water cannons.[65]Three more protestors were shot dead in Ogbomoso, Oyo State, following a killing the day before.[66]12 OctoberOn Monday, 12 October 2020, the Governor of Lagos StateBabajide Sanwo-Oluand the Minister of Police Affairs, Maigari Dingyadi, urged protestors to believe that SARS has been disbanded.[67]On Monday, 12 October 2020 theRivers StateGovernor,Nyesom Wikeannounced that the End SARS protests are disallowed in Rivers State. He banned all forms of protests in Rivers State.[68]On Monday, 12 October 2020, the Governor of Oyo State,Seyi Makindebarred Police from engaging with the protestors in order to avert further casualties from the pandemic.[69]A bystander watching the protest was shot dead by members of the Nigeria Police Force inSurulerewhile leaving 4 injured and they also arrested and detained peaceful Protesters.[12]The protests in Lagos at Lekki-Epe Expressway toll gate,Murtala Mohammed International airporttoll gate,Alausa,IkoroduRoad and Yaba caused heavy traffic gridlock and crippled businesses as young people continued to demand #EndSARS #SARSMustEnd.[70][71]Protests continued in Abuja as young people continued to march against police harassment, brutality and extortion. They blocked the Berger roundabout to draw attention to their demands. Earlier on in the day, the protestors had been challenged by Pro-SARS sympathizers who were marching in support of the Inspector General of Police Mohammed Adamu and the Nigerian President Muhammed Buhari under the aegis of Citizens Action for Good Governance.[72]Protesters in Oyo State with placards calling for the disbandment of SARS, an end to Police brutality extortion and extrajudicial killing demonstrated in front ofUniversity of Ibadanand Iwo Road inIbadan.[73]The protests locked down Iwo Road making vehicular movement to be at a standstill.[74]13 OctoberEndSARS protesters in LagosOn Tuesday, 13 October 2020,Ifeanyi Okowathe Governor of Delta State said that the #EndSARS protest is a result of failed leadership. The Governor also announced the constitution of a five-member Police Complaints Committee with two representatives from youth organisations.[75]The Governor had earlier appealed to the police to desist from harassing the protesters as people were free to express grievances in a democratic dispensation.[76]On Tuesday, 13 October 2020, the Public Relations Officer of the Nigerian Police Force, Frank Mba, announced the setting up of a Special Weapon and Tactics Team (SWAT) to replace SARS. The new outfit, which is expected to take off within the next 7 days, will undergo psychological and medical evaluation to determine their fitness.[59]The protest was taken to the National Assembly. Moving from Banex junction Abuja, protesters peacefully marched to the junction leading to the National Assembly around 2 p.m. where they were stopped by soldiers who violently resisted their movement and injured some protesters in the process.[77]ARISE TV news crew who were recording the fracas at the entry of the National Assembly were attacked. Ferdinard Duruoha was one of the crew members who were assaulted while Francis Ogbonna a cameraman with the same news outfit was attacked the previous day while covering the announcement of dissolution of SARS by the Inspector General of Police.[78]The Governor ofLagos Statepromised to set up a two hundred million naira (N200M) fund for residents of the State who have been victims of police brutality.[79]He met with PresidentMuhammadu Buharito present the demands of the protesters inLagos State.[80]A video surfaced from this meeting showing the President chuckle as the Governor Sanwo-Olu talked about his state's compensation fund for victims. The President's actions met a lot of negative criticism from Nigerians.[81]According to a press release signed by spokesman of the president,Femi Adesinathe Nigerian Government had agreed to the five demands of the End SARS protestors. The agreement was reached at a meeting organised by the Office of the Inspector General of Police andNational Human Rights Commission(NHRC) was attended by stakeholders which include officials of Ministry of Police Affairs and Police Service Commission, representatives ofCivil Societyorganisations and activists from the entertainment industry and #EndSARS movement.[82][83]The protests continued in Lagos. Young people carrying placards denouncing SARS and appealing for an end to police harassment, extortion and brutality blocked the Lagos-Ibadan expressway.[84]14 OctoberOn Wednesday, 14 October 2020, protesters in Lagos were attacked with cutlasses, sticks and charms.[85]In Abuja, protesters were attacked by people with cutlasses and cudgels at Berger roundabout. Cars were destroyed and some of the protestors were injured.[86][87]15 OctoberOn Thursday, 15 October 2020, the prohibition of demonstrations in theFederal Capital TerritorySecurity Committee was announced. The decision was taken at a meeting which held on Wednesday, 14 October 2020 and which was chaired by FCT Minister, Malam Muhammad Bello. The announcement recognised the rights of citizens to gather and demonstrate however, it went on to point out that the EndSARS protests were unruly, caused discomfort to people, violatedCOVID-19protocols and should be discontinued in view of the fact that Government had met the demands of the protesters.[88]Nigerians thought this absurd since there had been elections in Ondo and Edo along with massive rallies in preceding weeks.[89]Buhari's daughter had also had her wedding ceremony.[90]At the peak of the pandemic,Abba Kyari, late Chief of Staff to the President of Nigeria, was buried without adherence to COVID-19 guidelines.[91]People conveyed by Lagos state buses attacked protesters near the state secretariat in Alausa.[92]16 OctoberOn Friday, 16 October 2020, the hacktivist group,Anonymoushacked the Twitter account of theNational Broadcasting Commissionand posted a message which stated \"We #Anonymous will continue supporting Nigerians\" in a support for the ongoing protests.[93]Thousands of protesters gathered at the Lekki toll gate and Alausa, Ikeja to hold a candlelight session for the various victims of SARS/police killings.[94][95]A day after the FCTA banned protests across the Capital territory amidst fear of a second wave of theCOVID-19outbreak due to the protests,[96]youths protesting against Police brutality and abuses moved their protest from City gate to airport road where they obstructed both incoming and outgoing commuters thereby causing a gridlock leaving thousands stranded.[97]20 October - The Lekki Toll Gate MassacreFurther information:Lekki massacreFollowing violent escalations which included attacks by agitators against both protesters and police, the governor of Lagos state,Babajide Sanwo-Olu, declared a state-wide 24-hour curfew[98]effective 4:00 PM WAT on 20 October. During this time, images of some persons alleged to be working with the Lagos State government and the Lekki Concession Company removing cameras (later confirmed by the Lagos State Government to be laser cameras and not CCTV cameras as earlier publicized on social media[99]) at the toll gate circulated onEnd SARSonTwitterand street lights at the toll gate vicinity were turned off. A few hours later, it was reported that armed men of the Nigerian Army arrived at the scene of the protest andopened fire on peaceful and unarmed protesters, thereby resulting in a disputed number of deaths. A clip of the shooting trending on the Internet. There were also reports that at least 50 other people were injured. However, the Lagos State government later reported that the shooting resulted in up to 25 injured, and only 2 dead.[100]Despite the fact that the curfew was extended till 9:00 PM, soldiers of the Nigerian Army started shooting before 7:00 PM.[101][102][103][104][105][106]21 OctoberFollowing the killings on 20 October, video evidence showed that more shootings were still being carried out by the Nigerian Army and the Nigerian Police on the unarmed protesters. Some people also attacked and burnt buildings, vehicles, TV stations and raided the Oba of Lagos' palace.[107]The governor of Lagos had said that there were no casualties from the incident of the previous day but later tweeted that there had been reports of one casualty which negated the report sent in by various Twitter and Instagram users who had live recordings of the killings. While the protesters gathered again at the Lekki toll gate where the shooting took place on Tuesday 20 October, they were forced out by police.[107]While the protesters defied the curfew imposed by the Lagos state Governor, hoodlums burnt about 30 government buses at a bus station. Also burnt was Television Continental Station (TVC) linked to a former governor of the state,Bola Ahmed Tinubu, who is a national leader of the ruling All Progressives Congress (APC).[108][109]About seven people were reportedly killed within 24 hours since soldiers opened fire at protesters in Lagos. Authorities did not deny carrying out a crackdown, but refused to claim the deaths as of 21 October 2020. Brutality by the police forces made the protesters more angry intensifying the scale of the protests.[110]22 OctoberOn Thursday, October 22, it was reported[111]that armed men began shooting at protesters inOyigbo,Port Harcourt.[112][113]The attackers began breaking into homes, murdering those inside, and afterwards, torching down properties. It has been rumoured the shooters wereFulani herdsmen,[114]but there is no verification for this claim.Nigerian protests by stateDelta StateOn Saturday, 10 October 2020, the #EndSARS protest started from the Ekiugbo section of Ughelli, Delta State, went through the Ughelli Market, Ughelli Area Command and Isoko Road. The protests led to traffic gridlocks at the Ughelli-Patani section of the East-West Road. However, at Otovwodo Junction, fracas ensued as the peaceful protest assumed took another turn when hoodlums, motorcycle rider and others joined the youths. A police officer, Corporal Etaga Stanley of 'A' Division, Ughelli was disarmed, killed and his weapon and ammunition taken.[115][116]On Wednesday, 14 October 2020, young people in Effurun andWarri,Delta Statejoined in the protests.[117]Anambra StateOn Saturday, 10 October 2020, hundreds of young people gathered at Ekwueme Square,Awkain the morning hours and peacefully matched past the Eke Awka market, and through the major streets of the town with placards.[118]SARSAwkuzuwhich is well known for human rights abuses is located inAnambra State.[119]The protests continued inOnitsha, the commercial nerve centre ofAnambra Stateon Monday, 12 October, with protesters demanding that SARS be completely disbanded.[120]Protests continued in Awka on Wednesday, 14 October 2020 with protesters demanding for a total reform of the Nigerian Police Force.[121]On Friday, 16 October 2020, #EndSARS protesters including popular musicians and Anambra indigenesPhyno,Flavour,KCee,MasterKraft, marched from Awka, the state capital to Awkuzu town, where the dreaded SARS unit[122]is situated, calling for the total shutdown of the office.[123]The peaceful protesters were shot at by the officers of the supposedly dissolved SARS.[124][125]Abia StateA similar protest was held simultaneously inUmuahia, capital ofAbia State, by other youths in the state. They visited the police headquarters on Bende Road and Abịa State House of Assembly as well as the Abia Government House.[126]In Aba, the state's commercial nerve centre, youths took to the streets protesting police brutality on citizens.[127]In a statement on his Twitter handle, the governor said: \"I have taken note of the peaceful protests tagged #EndSARS and wish to assure Abịa youth and the general public that we will take up their concerns and ensure that your voices are heard at the right quarters.\"[126][128]Osun StateOn Monday, 12 October 2020, protesters inOsogbo,Osun Statetook to the streets of the capital town to protest against SARS with placards demanding that the squad be disbanded. The protests which took off from Olaiya junction and moved to the State House of Assembly caused traffic disruptions at the gate of government house, Osogbo as the protesters demanded that the Governor address them.[129][130]Rivers StateAggrieved Nigerians inPort Harcourt,Rivers State, on Tuesday 13 2020, took to the streets of Port Harcourt, Rivers state capital, to protest against police brutality in defiance to the directive of the State GovernorEzenwo Nyesom Wikewho had earlier issued a statement to the general public that all forms of protests have been banned throughout the State. The state governor, having observed this defiance by the protesters, joined them in solidarity, citing how Rivers State citizens had suffered so much police brutality carried out by members of SARS.[131][132]Ogun StateFifteen #EndSARS protestors were arrested inOgun State.[133]While others were released, three of the protesters; Adeniji Sodiq, Mutairu Faruq and Olatoye Joseph, who were arrested at the palace of the king of Owu on Friday, 9 October 2020 were charged for murder by the Police. After review of all evidence and as recommended by the Ogun State Attorney General, the Governor,Dapo Abiodungave orders for their release as the charges against the protesters were withdrawn.[134]At Akute/Ajuwon/Agbole axis, Ogun State,Femi Kutian Afrobeat musician, the son of late music iconFela Kutijoined the protests and helped to stop many protesters from being arrested[135]Enugu StateOn Tuesday, 13 October 2020, hundreds of protesters from different parts ofEnugu Statewith placards denouncing and asking for the end to SARS, police brutality, extortion and harassment converged and moved from Okpara Square,Enuguto the Criminal Investigation Department where they submitted the five demands of the EndSARS protests. They were joined by musicians, Chinedu Izuchukwu Okoli known asFlavour, Chibuzor Nelson Azubuike, popularly known asPhynoand Zoro, a rapper. The protestors were later joined by the Deputy Governor of the State, LoloCecilia Ezeilo.[136][137]Ebonyi StateOn Tuesday, 13 October 2020, hundreds of protesters in Abakiliki, capital ofEbonyi Statetook to the streets with placards demanding an end to police brutality and the prosecution of guilty officers.[138]Edo StateThe #EndSARS protest inBenin Cityturned violent on Friday, 16 October 2020 as the protesters that gathered at theEdo State House of Assemblygot attacked with stones and bullets by a suspected thug who claimed that the protesters disturbed their daily businesses. Two protesters were killed and many were injured in the attack.[139]The protesters, in retaliation, took the fight back to where the thugs converged at the museum ground in King's Square (Ring Road) where they engaged in a brawl. The activities of the protesters left the Ring Road deserted due to fear of possible escalation of violence as motorists sought for alternative routes to their destination.[140]The Edo State governor,Godwin Obaseki, condemned the attack on the #EndSARS protesters in Benin City by unidentified hoodlums. He stated that a thorough investigation would be effected immediately to bring the culprits to justice.[141]In a statement, the governor commissioned the Edo State police command to come out fully and provide appropriate security to the protesters, as they were exercising their rights as concerned citizens of Nigeria.[141]According to him, \"I have just learnt that hoodlums have attacked #EndSARS protesters, who have conducted themselves peacefully in Benin City. I extend condolences to the victims of the attacks, including those who lost their lives and others who were injured by the thugs. It is disheartening that anyone would attack a peaceful assembly of young people who are expressing genuine concerns overpolice brutalityand intimidation in their own country. I hereby call on the Edo State Police Command to get out on the streets and provide adequate security for the protesters and ensure that no one is harassed in the course of exercising their rights.\"[142]On 19 October 2020, news broke that \"hoodlums\" had stormed the correctional center in Edo state to free jailed inmates as part of the End SARS movement demands.[143][144]Plateau StateJos, the capital ofPlateau Statesaw youths in their number storm the city centre demanding the disbandment of the newly created Special Weapons and Tactics (SWAT) police unit by the Inspector General of Police (IG),Mohammed Adamu.[145]The protesters called on PresidentMuhammadu Buhariand the Police Service Commission (PSC) to overhaul the entireNigerian Police Force.[145]Displaying placards with various inscriptions such as #EndSARS; #EndSWAT; \"We don’t want SWAT\"; \"There’s no difference between SWAT and SARS\"; \"We want complete and total overhaul of all security apparatus in the country\", the youths stormed the Plateau State House of Assembly, The Plateau State Government House and other major streets in the city, calling on the state and federal government and theNigerian Police Forceto take action over the spate of extrajudicial killings by the operatives of the Nigerian Police. Placing it in context of the state, they called on the government to look into the general issues of insecurity in Plateau State among other neighbouring states.[146]20 OctoberOn Tuesday 20 October 2020, while protest was going on, thugs hauled the Jos city biggest market, Terminus, where they burned cars, hauled shops and attacked unarmed #EndSARS protesters.[147][148]Voluntary donationsThe on-going #EndSARS protests have been sustained by voluntary donations made by Nigerian citizens and the international community. There were voluntary donations of food items, water and professional services by lawyers and doctors for protesters.[149]Donations also came from localtech start-upswhose young male workers were constantly harassed by SARS and profiled as internetfraudstersbecause of laptops usually found in their possession.[150][151]International protestsInternational demonstrations were organised by theNigerian diasporainEurope,the Americas,Oceania, and elsewhere inAfrica.[152][153][154]Many Nigerian and Nigerian diaspora celebrities gave supportive statements on social media and took part in protests, while demonstrators pledged to continue until the demands were met.[155][156][157]CanadaOn Monday, 12 October 2020, Nigerians living in theWaterlooRegion ofOntarioorganised a peaceful demonstration in support of the #EndSARs movement. The group gathered in the Waterloo Public Square chanting \"What do we want? End SARS!\"[158]GermanyOn Friday, 23 October, Nigerians and German sympathizers organized a demonstration of several hundred participants in support of the #ENDSARS movement inStuttgart.IrelandDublinOn Sunday, 11 October 2020, Nigerians inDublingathered in front of the Nigerian Embassy to show solidarity with the #EndSARS protests in Nigeria. They denounced police brutality and SARS.[159]United KingdomLondonOn Sunday 11 October 2020, Ayodeji Ibrahim Balogun, a Nigerian singer known asWizkid, KelechiAFTV, Dr Dipo Awojide and many other Nigerians led a protest in support of the EndSARS protest at the Nigeria High Commission, Thai Square, London. It has been reported thatWizkidhas called out the Nigerian president Muhammadu Buhari on Twitter over his silence on scrapping the notorious police unit.[160]ManchesterOn Saturday 17 October 2020, Nigerians and other supporters organised a peaceful demonstration inMoston,Manchester, UK, in support of the #EndSARs movement.[161]United StatesNew YorkOn Sunday, 11 October 2020, young Nigerians inNew Yorkconverged at the Nigerian Consulate General inMidtownto protest against SARS. They shared their experiences with SARS while in Nigeria and asked that the outfit be totally disbanded so that young people can move freely without being profiled as criminals because of their dressing, accent or the type of vehicle they use.[162]MichiganOn Sunday, 18 October 2020, Nigerians and other supporters organised a peaceful demonstration atSouthfieldin support of the #EndSARs movement.[163]Social mediaOn 9 October 2020, the #EndSARS hashtag trended globally on social media. EndSARS protests, which started 8 October 2020, are still on-going in major cities across the country and have attracted international mainstream media attention. The campaign has witnessed reactions on social media from international celebrities such asCardi B,Rihanna,Trey Songz,Big Sean,Jidenna,John Boyega,Kanye West,Drake,Diddy,Lewis Hamiltonamong others including footballers,Marcus Rashford,Odion IghaloandMesut Ozil.[164][165][166][167][168][169]With the news that SARS had been disbanded, Nigerians took the news with a grain of salt and carried on with pressing their demands for total disengagement of the unit and for wide-ranging reform of the force. The hashtag on social media changed from #EndSARS to #SARSMustEnd! With the announcement of a new unit Special Weapons and Tactics Team (SWAT) by the Nigerian Police to replace SARS, the hashtag for the protests quickly changed to #EndSWAT on Twitter.[170]EndSWAT also trended.[171]On Thursday, 15 October 2020,Google Africamade a statement on its Twitter handle in support of the End SARS protests condemning police intimidation, oppression and brutality while urging the government to speedily intervene and resolve the crisis.[172]References^abc\"Nigeria protests: President Buhari says 69 killed in unrest\".BBC. 23 October 2020. Retrieved24 October2020..mw-parser-output cite.citation{font-style:inherit}.mw-parser-output .citation q{quotes:\"\\\"\"\"\\\"\"\"'\"\"'\"}.mw-parser-output .id-lock-free a,.mw-parser-output .citation .cs1-lock-free a{background:linear-gradient(transparent,transparent),url(\"//upload.wikimedia.org/wikipedia/commons/6/65/Lock-green.svg\")right 0.1em center/9px no-repeat}.mw-parser-output .id-lock-limited a,.mw-parser-output .id-lock-registration a,.mw-parser-output .citation .cs1-lock-limited a,.mw-parser-output .citation .cs1-lock-registration a{background:linear-gradient(transparent,transparent),url(\"//upload.wikimedia.org/wikipedia/commons/d/d6/Lock-gray-alt-2.svg\")right 0.1em center/9px no-repeat}.mw-parser-output .id-lock-subscription a,.mw-parser-output .citation .cs1-lock-subscription a{background:linear-gradient(transparent,transparent),url(\"//upload.wikimedia.org/wikipedia/commons/a/aa/Lock-red-alt-2.svg\")right 0.1em center/9px no-repeat}.mw-parser-output .cs1-subscription,.mw-parser-output .cs1-registration{color:#555}.mw-parser-output .cs1-subscription span,.mw-parser-output .cs1-registration span{border-bottom:1px dotted;cursor:help}.mw-parser-output .cs1-ws-icon a{background:linear-gradient(transparent,transparent),url(\"//upload.wikimedia.org/wikipedia/commons/4/4c/Wikisource-logo.svg\")right 0.1em center/12px no-repeat}.mw-parser-output code.cs1-code{color:inherit;background:inherit;border:none;padding:inherit}.mw-parser-output .cs1-hidden-error{display:none;font-size:100%}.mw-parser-output .cs1-visible-error{font-size:100%}.mw-parser-output .cs1-maint{display:none;color:#33aa33;margin-left:0.3em}.mw-parser-output .cs1-subscription,.mw-parser-output .cs1-registration,.mw-parser-output .cs1-format{font-size:95%}.mw-parser-output .cs1-kern-left,.mw-parser-output .cs1-kern-wl-left{padding-left:0.2em}.mw-parser-output .cs1-kern-right,.mw-parser-output .cs1-kern-wl-right{padding-right:0.2em}.mw-parser-output .citation .mw-selflink{font-weight:inherit}^\"End SARS [The Vital First Step]\".TheCityCeleb. 14 October 2020. Retrieved21 October2020.^Kingsley, Omonobi (4 December 2017).\"Anti-SARS campaign: IG orders investigation of anti-robbery squad\".Vanguard Newspaper. Kingsley Omonobi & Joseph Erunke. Nigeria. Retrieved31 January2018.^abSalaudeen, Aisha (15 December 2017).\"Nigerians want police's SARS force scrapped\". Aljazeera. Retrieved2 January2018.^\"End SARS as a Mob Project\". Nigeria: Thisday Newspapers Limited. 17 December 2017. Retrieved2 January2018.^Ogundipe, Samuel (3 December 2017).\"#EndSARS: Police mum as Nigerians recount atrocities of Special Anti-Robbery Squad\". Nigeria: Premium Times. Retrieved2 January2018.^Kazeem, Yomi.\"How a youth-led digital movement is driving Nigeria's largest protests in a decade\".Quartz Africa. Retrieved13 October2020.^CNN, Analysis by Stephanie Busari.\"Nigeria's youth finds its voice with the EndSARS protest movement\".CNN. Retrieved25 October2020.^\"Nigeria's #EndSARS Protests Aren't Just Opposing Police Brutality — They're Opposing Neoliberalism\".jacobinmag.com. Retrieved19 November2020.^\"#EndSARS: Nigeria says Special Anti-Robbery Squad dissolved\".Al Jazeera. 11 October 2020. Retrieved11 October2020.^abAdemoroti, Niyi (11 October 2020).\"What It Means When the Police Say They are Dissolving SARS\".BellaNaija. Retrieved11 October2020.^ab\"Another #EndSARS protester shot dead | Premium Times Nigeria\". 12 October 2020. Retrieved12 October2020.^Makinde, Tami (16 October 2020).\"#EndSARS protests in Nigeria show that the youth wants change, now\".gal-dem. Retrieved19 October2020.^abKazeem, Yomi.\"Young Nigerians are leading protests yet again to disband a rogue police unit\".Quartz Africa. Retrieved10 October2020.^Endsarswww.endsars.com^Paquette, Danielle.\"Nigeria abolishes special police squad after nationwide protests\".Washington Post.ISSN0190-8286. Retrieved12 October2020.^Projectstore (11 October 2020).\"Brief History Of How ENDSARS Campaign Started In Nigeria\".Free Student Project Topics. Retrieved13 October2020.^Ujene, Ikem Godspower; Orji-Egwu, Agatha Obiangeri (1 June 2018). \"INFORMATION COMMUNICATION TECHNOLOGY AS A TOOL FOR SOCIAL CONTROL: A STUDY OF NIGERIA'S #ENDSARS\".Journal of Human Capital Development (JHCD).11(2): 1–16.ISSN1985-7012.^Ogundipe, Samueel (5 December 2017).\"#EndSARS: Nigeria Police threaten leader of campaign against notorious anti-robbery squad | Premium Times Nigeria\". Premium Times. Retrieved10 October2020.^abAdebayo, Bukola.\"How a social media movement against police brutality prompted Nigerian government to act\".CNN. CNN. CNN. Retrieved10 October2020.^CNN, Stephanie Busari, Orji Sunday and Aisha Salaudeen.\"Nigerians take to the streets in protests against controversial police unit accused of brutality\".CNN.^International, Amnesty (2016).You Have Signed Your Death Warrant TORTURE AND OTHER ILL TREATMENT BY NIGERIA'S SPECIAL ANTI-ROBBERY SQUAD (SARS)(PDF). London: Amnesty International Ltd. AFR 44/4868/2016. Retrieved10 October2020.^\"In Nigeria police continue to torture with impunity\".amnesty.org. Retrieved13 October2020.^\"Civic tech startups take on Nigeria's struggle for justice\".Devex. 14 November 2018. Retrieved6 November2020.^\"Ruggedman - 'Is Police your friend?'\".Pulse Nigeria. 6 April 2018. Retrieved6 November2020.^Ibrahim, Mansur (3 December 2017).\"Trending: Nigerians say 'enough is enough', it is time to #EndSARS\". Nigeria: The Cable. Retrieved2 January2018.^Busari, Kemi (5 December 2017).\"Senator backs calls for Police SARS scrapping\". Nigeria: Premium Times. Retrieved2 January2018.^Salaudeen, Aisha (17 December 2017).\"Nigerians want police's SARS force scrapped\". Aljazeera. Retrieved2 January2018.^Africa Yearbook Volume 14: Politics, Economy and Society South of the Sahara in 2017. BRILL. 24 December 2018.ISBN978-90-04-36763-0.^Bella, Naija (11 December 2017).\"#EndSARS: Nigerians take to the Streets in Protest\". Bellanaija. Retrieved2 January2018.^\"'End SARS or we go protest for January 2018' – Nigerian youths\". BBC Pidigin. BBC. 3 December 2017. Retrieved2 January2018.^ENDSARS Protesters Ground Activities in Jos16 October 2020www.thisdaylive.com, accessed 18 October 2020^Kaduna youths join EndSARS protest18 OCTOBER 2020^Erunke, Joseph (3 December 2017).\"#EndSARS: We won't scrap SARS, Police reply anti-SARS campaigners\".Vanguard Newspaper. Nigeria. Retrieved2 January2018.^Adewole, Kehinde (10 December 2017).\"SARS reform is the best alternative to #EndSARS\". Nigeria: The Cable. Retrieved2 January2018.^News, Aljazeera (9 October 2020).\"#EndSARS: Nigerians protest against police brutality\".aljazeera.com. Aljazeera Media Network. Retrieved10 October2020.^Okon, Desmond (4 October 2020).\"Nigerians insist on disbandment of SARS as IGP bans killer police unit for third time\".Businessday NG. Business Day Newspaper. Business Day Newspaper. Retrieved10 October2020.^abLambo, Deji (22 September 2020).\"Angry youths protest as cop shoots Rivers musician dead\".PUNCH. Retrieved23 October2020.^Busari, Stephanie; Orji, Sunday; Salaudeen, Aisha (9 October 2020).\"Nigerians take to the streets in protests against controversial police unit accused of brutality\".CNN. CNN. CNN. Retrieved10 October2020.^\"Sars ban: Two dead in Nigeria police brutality protests\".BBC News. 12 October 2020. Retrieved13 October2020.^\"#EndSars: Young Nigerian Jimoh Isiaq Killed In Ogbomosho, Seven Others Injured\".^\"Nigerian police fire tear gas at #EndSars protests against brutality\".BBC News. 9 October 2020. Retrieved10 October2020.^\"Police fire teargas at Nigerians protesting at alleged brutality, witnesses say\".Reuters. Retrieved10 October2020.^editor (10 October 2020).\"EndSARS Protests Turn Violent in Osun, Abuja, Commotion in Lagos\".THISDAYLIVE. Retrieved10 October2020.CS1 maint: extra text: authors list (link)^\"'We need to live': Young Nigerians on why they are protesting\".aljazeera.com. Retrieved15 October2020.^\"Five demands from #EndSARS protesters\".Vanguard News. 12 October 2020. Retrieved14 October2020.^Adediran, Ifeoluwa; Ayitogo, Nasir (4 October 2020).\"#EndSARS: Police ban SARS, STS, others from Nigerian roads\". Premium Times. Premium Times. Retrieved10 October2020.^Kazeem, Yomi (9 October 2020).\"Young Nigerians are leading protests yet again to disband a rogue police unit\".Quartz Africa. Quartz Media Inc. Uzabase. Retrieved10 October2020.^Newspaper, Punch (9 October 2020).\"Protesters insist on #EndSARS as Lagos deputy gov pleads for reform\".Punch Newspapers. Punch Newspaper. Retrieved10 October2020.^Gazette, Peoples (6 November 2020).\"EXCLUSIVE: Court documents confirm CBN froze bank accounts of Rinu, Pamilerin, Gatefield, 17 other #EndSARS champions\".Peoples Gazette. Peoples Gazette. Retrieved7 November2020.^Newspaper, Punch (6 November 2020).\"CBN obtains order to freeze #EndSARS promoters' accounts till January\".Punch Newspaper. Punch Newspaper. Retrieved7 November2020.^Television, Channels.\"#EndSARS: Do Not Hurt Our Children Because Of Their Looks – Lagos Deputy Governor\".Channels Television. Retrieved10 October2020.^Tela, Tale.\"\"We Are Not Joking\" – Says Don Jazzy As He Joins Lagos #EndSARS Protest\".Tale Tela. Retrieved10 October2020.^Times, Premium (9 October 2020).\"#EndSARS: Lagos deputy governor tells protesters to eschew violence\". Premium Times. Retrieved10 October2020.^Television, Channels (9 October 2020).\"#EndSARS: Do Not Hurt Our Children Because Of Their Looks – Lagos Deputy Governor\".Channels Television. Channels Incorporated Limited. Retrieved10 October2020.^Olasupo, Abisola (9 October 2020).\"I've also been harrassed by SARS before – Lagos deputy governor\".The Guardian Nigeria News – Nigeria and World News. Guardian Newspapers. Retrieved10 October2020.^Television, Channels (9 October 2020).\"Do Not Unjustifiably Hurt Our Children Lagos Deputy Governor Speaks on #ENDSARS Protest\". YouTube. Retrieved10 October2020.^Erezi, Dennis (9 October 2020).\"Lagos House of Assembly demands proscription of SARS\".guardian.ng. Guardian Newspaper. Retrieved12 October2020.^abOlisah, Chike (13 October 2020).\"Inspector General of Police sets up new outfit, SWAT to replace SARS\".Nairametrics. Retrieved14 October2020.^News, Dove Blog NG.\"#ENDSARS Protesters In Abuja Vow To Camp At Force Headquarters Until IGP Addresses Them\".Dove Blog NG. Retrieved10 October2020.^Aisha, Yesufu (10 October 2020).\"#EndSARS Protest in Abuja\".Twitter.^\"One killed as anti-SARS protests turn violent in Oyo, Ogun, Osun, Abuja\". 11 October 2020. Retrieved18 October2020.^\"SARS: Makinde pay tribute to Jimoh Isiaka, Ogbomoso End Sars protest victim and order full investigation into his death\". 10 October 2020. Retrieved18 October2020– via www.bbc.com.^Mbah, Fidelis.\"'We need justice': Nigerians to keep up #EndSARS pressure\".aljazeera.com. Retrieved12 October2020.^Onyeji, Ebuka (12 October 2020).\"#EndSARS: Davido joins Abuja protest | Premium Times Nigeria\". Premium Times. Retrieved12 October2020.^\"#EndSARS: Three more people killed during protests in Ogbomoso\". 13 October 2020. Retrieved13 October2020.^Published.\"Don't doubt Buhari's sincerity to end SARS, Sanwo-Olu, minister beg protesters\".Punch Newspapers. Retrieved12 October2020.^Ukpe, William (13 October 2020).\"#EndSARS protest banned in Rivers – Wike\".Nairametrics. Retrieved13 October2020.^\"#EndSARS: Makinde bars police from engaging protesters in Oyo\". 12 October 2020. Retrieved13 October2020.^\"#ENDSARS protest cripples movement, business in Lagos\".Businessday NG. 12 October 2020. Retrieved13 October2020.^\"More #EndSARS protests rock Lagos, Osogbo, Ilorin, Abuja\".Vanguard News. 13 October 2020. Retrieved13 October2020.^editing (12 October 2020).\"Tension In Abuja As #ENDSARS Protesters Block Berger Roundabout\".Sahara Reporters. Retrieved14 October2020.^Adebayo, Musliudeen (13 October 2020).\"End SARS: Protesters storm Ibadan roads, demand total end of police squad [PHOTOS]\".Daily Post Nigeria. Retrieved13 October2020.^Published.\"BREAKING: Gridlock as #EndSARS protesters shut down Iwo road\".Punch Newspapers. Retrieved13 October2020.^\"#ENDSARS protests result of leadership failure -- Okowa\". 13 October 2020. Retrieved13 October2020.^Nwosu, Annie (13 October 2020).\"End SARS: Okowa orders police officers to refrain from brutalizing protesters in Delta\".Daily Post Nigeria. Retrieved13 October2020.^\"#EndSARS: Protesters block entrance to Nigeria's National Assembly\". 13 October 2020. Retrieved14 October2020.^OYEDEJI, Niyi (13 October 2020).\"#EndSARS: Security operatives assault Arise TV crew, seize camera in Abuja\".International Centre for Investigative Reporting. Retrieved14 October2020.^Olisah, Chike (13 October 2020).\"#EndSARS: Lagos sets up N200 million fund for victims of police brutality\".Nairametrics. Retrieved14 October2020.^\"#ENDSARS: What I discussed with Buhari -- Sanwo-Olu\". 13 October 2020. Retrieved25 October2020.^\"#EndSARS: Buhari mocks dead police victims\".Punch Newspapers. Retrieved25 October2020.^\"FG accepts 5-point demand of #EndSARS protesters\".TheCable. 13 October 2020. Retrieved14 October2020.^Odutola, Abiola (13 October 2020).\"Update: #EndSARS: Presidential panel okays 5 demands of protesters\".Nairametrics. Retrieved14 October2020.^Published.\"Again, #ENDSARS protesters block Lagos-Ibadan Expressway, commuters groan\".Punch Newspapers. Retrieved14 October2020.^editing (14 October 2020).\"BREAKING: Like Abuja, Armed Thugs Disrupt #ENDSARS Protest In Lagos\".Sahara Reporters. Retrieved14 October2020.^Editor (14 October 2020).\"Breaking: Armed thugs attack Nigerians protesting against police brutality in Abuja #EndSWAT #SWATMUSTENDNOW #SARSMUSTENDNOW #SWATMUSTEND #AbujaProtests\".NewsWireNGR. Retrieved14 October2020.CS1 maint: extra text: authors list (link)^\"Armed thugs attack #EndSARS protesters in Abuja\".Vanguard News. 14 October 2020. Retrieved15 October2020.^Published.\"#EndSARS: FCTA bans protests in Abuja\".Punch Newspapers. Retrieved15 October2020.^\"Akeredolu don win Ondo Election for second term\".BBC News Pidgin. 11 October 2020. Retrieved21 October2020.^\"See fotos and videos from Hanan Buhari wedding wit Mohammed Turad Sha'aban\".BBC News Pidgin. 3 September 2020. Retrieved21 October2020.^\"Coronavirus: Quarantine attendees of Kyari's burial, experts tell FG\".Healthwise. 19 April 2020. Retrieved21 October2020.^\"Lagos state governor blamed as thugs attack #Endsars protesters at state house\".774. 15 October 2020. Retrieved15 October2020.^\"Anonymous hacks National Broadcasting Commission's Twitter account\".guardian.ng. 16 October 2020. Retrieved16 October2020.^Published.\"#EndSARS: Thousands hold candlelight sessions for victims in Lagos, others\".Punch Newspapers. Retrieved17 October2020.^admin (16 October 2020).\"Breaking News | #EndSARS: Sights, Scenes From Candlelight Procession In Abuja\".Breaking News. Retrieved17 October2020.^\"Nigerians kick as FCT bans protest due to COVID-19 restrictions\".Vanguard News. 15 October 2020. Retrieved18 October2020.^\"#EndSARS: Thousands stranded as protesters block Abuja airport road\". 16 October 2020. Retrieved18 October2020.^\"#EndSARS: Lagos declares 24hours curfew as thugs set police station ablaze\".774. 20 October 2020. Retrieved20 October2020.^\"Laser cameras, not CCTV, removed at Lekki Tollgate ― Sanwo-Olu\".Vanguard. 22 October 2020. Retrieved22 October2020.^\"#EndSARS: Sanwo-Olu confirms two deaths from Lekki shooting\".Premium Times. 22 October 2020. Retrieved25 October2020.^Nigeria unrest: Protesters 'shot dead' in Lagos^\"Nigeria Unrest: #EndSARS Protests Turns Fire and Blood\".The African Media. 20 October 2020. Retrieved21 October2020.^\"Killing Of Protesters By The Military Must be Investigated\".Amnesty Organization. Retrieved20 October2020.^\"The Lekki Massacre And End Sars Protest Across Nigeria in 29 Pictures\".Businessday NG. Retrieved20 October2020.^\"Lekki Massacre: Lifeless Bodies Scattered on the Streets of Lagos\".Ab-Tc. Retrieved20 October2020.^\"Nigerian Security forces use live fire to disperse protesters\".Al Jazeera. Retrieved20 October2020.^ab\"End Sars protests: People 'shot dead' in Lagos, Nigeria\".BBC News. 21 October 2020. Retrieved21 October2020.^\"SARS: Lagos protesters break curfew amid gunfire, chaos\".aljazeera.com. Retrieved21 October2020.^\"#EndSARS: TVC set on fire\". 21 October 2020. Retrieved21 October2020.^\"Police brutality is just tip of the iceberg for protesters in Nigeria\".The Guardian. Retrieved21 October2020.^\"https://twitter.com/mrsomtookonkwo/status/1319633560211542022\".Twitter. Retrieved24 October2020.External link in|title=(help)^\"https://twitter.com/ajuicygeorge/status/1319404352889622528\".Twitter. Retrieved24 October2020.External link in|title=(help)^\"https://twitter.com/madukoko/status/1319442130373386240\".Twitter. Retrieved24 October2020.External link in|title=(help)^\"https://twitter.com/kalushar_/status/1319557968107589635\".Twitter. Retrieved24 October2020.External link in|title=(help)^\"#EndSARS: Police officer killed in Delta -- Official | Premium Times Nigeria\". 9 October 2020. Retrieved14 October2020.^Published.\"#EndSARS protests: Policeman shot dead in Delta, youths demand meeting with IG\".Punch Newspapers. Retrieved14 October2020.^\"ENDSARS, ENDSWAT protest cripples movement in Warri\".Vanguard News. 14 October 2020. Retrieved14 October2020.^\"#ENDSARS: Youth in Anambra protest against police brutality\". 10 October 2020. Retrieved12 October2020.^\"'Once Arrested, Just Forget It': Anambra Residents Recount Bitter Experiences Of SARS Brutality\".HumAngle. 11 July 2020. Retrieved12 October2020.^editor (13 October 2020).\"#End SARS: Youths Sustain Protests in Abuja, Jos, Onitsha\".THISDAYLIVE. Retrieved13 October2020.CS1 maint: extra text: authors list (link)^Chukindi, Joe (14 October 2020).\"End SARS protesters ground Awka, demand prosecution of ex-SARS boss, Nwafor\".Daily Post Nigeria. Retrieved14 October2020.^\"Awkuzu SARS: Nigeria's most dreaded specialized police unit -\".Vanguard News. 17 October 2020. Retrieved19 October2020.^\"#EndSARS: Anambra protesters head to SARS office in Awkuzu\". 16 October 2020. Retrieved19 October2020.^editing (17 October 2020).\"Police Officers Open Fire On Peaceful Protesters In Anambra\".Sahara Reporters. Retrieved19 October2020.^\"#ENDSARS: Anambra ENDSARS Protesters Gets Shot At By SARS Operatives At Awkuzu SARS – YouTube\".youtube.com. Retrieved19 October2020.^ab\"#EndSARS:Protests continue in Anambra, Abia – Premium Times\".premiumtimesng.com. Retrieved12 October2020.^\"#EndSARS shut down Enugu, Owerri, Aba\".premiumtimesng.com. Retrieved12 October2020.^\"End SARS:Your voices will be heard – Gov Ikpeazu tells protesters\".dailypost.ng. Retrieved11 October2020.^\"#EndSARS protesters shut Osun governor's office\". 12 October 2020. Retrieved13 October2020.^Obarayese, Sikiru (12 October 2020).\"End SARS protesters block Osun governor's office\".Daily Post Nigeria. Retrieved13 October2020.^\"All proposed protests under #EndSARS hereby prohibited – Wike\".vanguardngr. 13 October 2020. Retrieved13 October2020.^\"#EndSARS: Protesters defy Wike, march to demand police reform\".thecable. 13 October 2020. Retrieved13 October2020.^editing (11 October 2020).\"Police Arrest 15 #EndSARS Protesters In Ogun, To Charge Them For Murder On Monday\".Sahara Reporters. Retrieved13 October2020.^\"Ogun governor orders release of #EndSARS protesters arraigned for attempted murder\". 13 October 2020. Retrieved13 October2020.^\"#EndSARS: Femi Kuti joins protest, prevents arrest of demonstrators\". 12 October 2020. Retrieved13 October2020.^Nwosu, Annie (13 October 2020).\"End SARS: Deputy Governor, Flavour, Phyno, join protest in Enugu\".Daily Post Nigeria. Retrieved15 October2020.^\"#EndSARS protesters shut down Enugu, Owerri, Aba\". 13 October 2020. Retrieved15 October2020.^Aliuna, Godwin (13 October 2020).\"End SARS: Protesters block Ebonyi govt house, demand removal of police officers found guilty of crime\".Daily Post Nigeria. Retrieved14 October2020.^\"One feared dead as hoodlums attack, loot warehouse in Benin\".Naijalitz. 24 October 2020. Retrieved25 October2020.^\"Two killed as thugs attack #EndSARS protesters in Edo\".Premium Times. 16 October 2020. Retrieved18 October2020.^ab\"#EndSARS Protest Turns Bloody in Benin, Two Feared Dead as Thugs Attack Protesters\".Thisdaylive. 16 October 2020. Retrieved18 October2020.^\"Two dead as hoodlums attack #EndSARS protesters in Benin\".Punchng. 16 October 2020. Retrieved18 October2020.^\"Hoodlums break into Benin prison, set inmates free\".TheCable. 19 October 2020. Retrieved19 October2020.^Editor (19 October 2020).\"Breaking: Prison break in Benin, Prisoners are escaping in Edo State Capital\".NewsWireNGR. Retrieved19 October2020.CS1 maint: extra text: authors list (link)^abeditor (16 October 2020).\"ENDSARS Protesters Ground Activities in Jos\".THISDAYLIVE. Retrieved24 October2020.CS1 maint: extra text: authors list (link)^\"End SARS – Youths In Plateau State Demand An Overhaul of the Nigerian Police\".VOA Hausa. 17 October 2020.^\"BREAKING:Armed Thugs Attacked Terminus In Jos, Destroy Businesses, Properties\". Sahara Reporters. 20 October 2020. Retrieved20 October2020.^\"Dj Switch Live Video At Lekki Toll Gate, Soldiers Shooting #Endsars Protesters\".The African Media. 20 October 2020. Retrieved21 October2020.^How a youth-led digital movement is driving Nigeria’s largest protests in a decadeqz.com Quartz Africa, accessed 21 October 2020^Ozibo, Ugonnia (12 October 2020).\"#EndSARS: Nigerian firms, Start-ups donate millions in support of protests\".Nairametrics. Retrieved13 October2020.^\"Paystack, Cowrywise join brands in raising funds to support #EndSARS protests in Nigeria\".Business Insider Africa. 11 October 2020. Retrieved13 October2020.^Silas, Don (9 October 2020).\"End SARS: I want to lead protest in London – Ex-BBNaija star, Mike\".^Dede, Steve (12 October 2020).\"10 cities where #EndSARS protests have happened across the world\".Pulse Nigeria. Ringier Nigeria. Retrieved12 October2020.^Docteur 🇳🇬 [@stanssy] (16 October 2020).\"#EndSARS #EndPoliceBrutalityinNigeria #Adelaide#Australia @pheelbny @angel_osuji @Jeffxofesi @walvia99 @MsFisayo @fkabudu we are with you all\"(Tweet) – viaTwitter.^\"#EndSARS: Nigeria captain Musa, Balogun and Ogu join youths in protest against police brutality | Goal.com\".goal.com. Retrieved9 October2020.^\"EndSARS Day-2 protest for Lagos, Abuja as Nigerians insist say police brutality must end\".BBC News Pidgin. Retrieved9 October2020.^News, BBC (9 October 2020).\"EndSARS Day-2 protest for Lagos, Abuja as Nigerians insist say police brutality must end\".BBC News Pidgin. BBC Pidgin. BBC. Retrieved10 October2020.^\"Waterloo Region demonstration in solidarity with movement to end police brutality in Nigeria\". 12 October 2020.^Topics, Head.\"VIDEO: #EndSARS protest in Dublin, Ireland\".Head Topics. Retrieved14 October2020.^Richards, Will (11 October 2020).\"WizKid is leading mass protests against Nigerian police brutality in London\".NME Music News, Reviews, Videos, Galleries, Tickets and Blogs | NME.COM. Bandlab Technologies. Retrieved12 October2020.^Dandy, Jackson Chukwudi.\"Manchester campaigners demand an end to police brutality and SARS in Nigeria protest\".The Northern Quota. Retrieved17 October2020.^\"Nigerians Demand End to Police Squad Known for Brutalizing the Young\".The New York Times. 12 October 2020.ISSN0362-4331. Retrieved13 October2020.^Dandy, Jackson Chukwudi.\"EndSARS: Nigerians Protest in Michigan, USA\".Reality Gist. Retrieved18 October2020.^\"Rashford and Ozil add voices to #EndSARS campaign against police brutality | Goal.com\".goal.com. Retrieved12 October2020.^Bamidele, Michael (10 October 2020).\"Trey Songz, Mesut Ozil, Big Sean, John Boyega And Other International Celebrities Voice Support For #EndSARS Protest\".Guardian Nigeria. Retrieved10 October2020.^Odunsi, Wale (13 October 2020).\"End SARS: Kanye West joins campaign\".Daily Post Nigeria. Retrieved13 October2020.^Rodriguez, Karla (11 October 2020).\"Drake, Burna Boy, Diddy and more stars show support for Nigeria's #EndSARS movement\".REVOLT. Retrieved14 October2020.^\"Burna Boy, Jidenna, Diddy And More Show Solidarity For #ENDSARS Movement\".BET. 13 October 2020. Retrieved14 October2020.^Ighalo, Odion [@ighalojude] (20 October 2020).\"Pray for NIGERIAFlag of NigeriaRaised fist\"(Tweet) – viaTwitter.^\"Protests Continue, Nigerians Demand #EndSWAT\".Channels Television. Retrieved14 October2020.^\"Nigeria | Twitter trending hashtag and topics today | trends24.in\".trends24. Retrieved14 October2020.^Nwosu, Annie (15 October 2020).\"End SARS: Google drops statement on campaign\".Daily Post Nigeria. Retrieved16 October2020.‹ Thetemplatebelow (Ongoing protests) is being considered for deletion. Seetemplates for discussionto help reach a consensus. ›vteOngoing protestsCivil unrests, movementsand protestsAnti-austerity movement in the United Kingdom(since November 2010)Venezuelan protests(since February 2014)Protests against Donald Trump(since June 2015)Protests against Rodrigo Duterte(since November 2016)Protests against Emmanuel Macron(since May 2017)Yellow vests movement(since November 2018)2018–2020 Nicaraguan protests(since April 2018)Arab protestsAlgerian protests(since February 2019)Sudanese protests(since September 2019)Iraqi protests(since October 2019)Lebanese protests(since October 2019)Hong Kong protests(since March 2019)Iranian protests(since November 2019)Indonesia omnibus law protests(since January 2020)Germany anti-lockdown protests(since April 2020)United States anti-lockdown protests(since April 2020)United Kingdom anti-lockdown protests(since April 2020)Belarusian protests(since May 2020)United States racial unrest(since May 2020)Anti-Netanyahu protests(since May 2020)Serbian protests(since July 2020)Bulgarian protests(since July 2020)Thai protests(since July 2020)Javier Ordóñez protests(since September 2020)Bolivian election protests(since October 2020)Kyrgyzstan protests(since October 2020)End SARS protests(since October 2020)2020 Polish protests(since October 2020)2020 United States election protests(since November 2020)2020 Armenian protests(since November 2020)2020 Peruvian protests(since November 2020)2020 Guatemalan protests(since November 2020)International movementsFridays for Future Movement(since August 2018)Protests over responses to the COVID-19 pandemic(since March 2020)George Floyd protests(since May 2020)Retrieved from \"https://en.wikipedia.org/w/index.php?title=End_SARS&oldid=990196888\"Categories:2016 establishments in Nigeria21st-century social movementsLaw enforcement in NigeriaProtests in Nigeria2020 protestsProtests against police brutalityCriticism of police brutalityHashtagsSlogansSocial movements in NigeriaOngoing protestsHuman rights in NigeriaHidden categories:CS1 maint: extra text: authors listCS1 errors: external linksArticles with short descriptionShort description is different from WikidataWikipedia semi-protected pagesEngvarB from October 2020Use dmy dates from October 2020Pages using multiple image with auto scaled imagesTwitter username not in WikidataNavigation menuPersonal toolsNot logged inTalkContributionsCreate accountLog inNamespacesArticleTalkVariantsViewsReadView sourceView historyMoreSearchNavigationMain pageContentsCurrent eventsRandom articleAbout WikipediaContact usDonateContributeHelpLearn to editCommunity portalRecent changesUpload fileToolsWhat links hereRelated changesUpload fileSpecial pagesPermanent linkPage informationCite this pageWikidata itemPrint/exportDownload as PDFPrintable versionIn other projectsWikimedia CommonsLanguagesالعربيةDeutschΕλληνικάEspañolفارسیFrançaisHausaՀայերենMagyarPortuguêsРусскийSimple EnglishไทยУкраїнськаYorùbá中文Edit linksThis page was last edited on 23 November 2020, at 10:10(UTC).Text is available under theCreative Commons Attribution-ShareAlike License;\n",
       "additional terms may apply.  By using this site, you agree to theTerms of UseandPrivacy Policy. Wikipedia® is a registered trademark of theWikimedia Foundation, Inc., a non-profit organization.Privacy policyAbout WikipediaDisclaimersContact WikipediaMobile viewDevelopersStatisticsCookie statement(RLQ=window.RLQ||[]).push(function(){mw.config.set({\"wgPageParseReport\":{\"limitreport\":{\"cputime\":\"1.636\",\"walltime\":\"2.148\",\"ppvisitednodes\":{\"value\":12254,\"limit\":1000000},\"postexpandincludesize\":{\"value\":351142,\"limit\":2097152},\"templateargumentsize\":{\"value\":13138,\"limit\":2097152},\"expansiondepth\":{\"value\":13,\"limit\":40},\"expensivefunctioncount\":{\"value\":8,\"limit\":500},\"unstrip-depth\":{\"value\":1,\"limit\":20},\"unstrip-size\":{\"value\":538926,\"limit\":5000000},\"entityaccesscount\":{\"value\":1,\"limit\":400},\"timingprofile\":[\"100.00% 1848.825      1 -total\",\" 49.71%  919.006      1 Template:Reflist\",\" 28.94%  535.086    111 Template:Cite_web\",\" 20.20%  373.454      1 Template:Ongoing_protests\",\" 12.98%  239.974     53 Template:Cite_news\",\" 11.43%  211.390      1 Template:Infobox_civil_conflict\",\" 10.93%  202.108      1 Template:Navbox\",\" 10.69%  197.562      1 Template:Infobox\",\" 10.15%  187.687     34 Template:Flagicon\",\"  9.09%  168.090      1 Template:Template_for_discussion/dated\"]},\"scribunto\":{\"limitreport-timeusage\":{\"value\":\"0.873\",\"limit\":\"10.000\"},\"limitreport-memusage\":{\"value\":8941218,\"limit\":52428800}},\"cachereport\":{\"origin\":\"mw1392\",\"timestamp\":\"20201123214127\",\"ttl\":2592000,\"transientcontent\":false}}});});{\"@context\":\"https:\\/\\/schema.org\",\"@type\":\"Article\",\"name\":\"End SARS\",\"url\":\"https:\\/\\/en.wikipedia.org\\/wiki\\/End_SARS\",\"sameAs\":\"http:\\/\\/www.wikidata.org\\/entity\\/Q48811126\",\"mainEntity\":\"http:\\/\\/www.wikidata.org\\/entity\\/Q48811126\",\"author\":{\"@type\":\"Organization\",\"name\":\"Contributors to Wikimedia projects\"},\"publisher\":{\"@type\":\"Organization\",\"name\":\"Wikimedia Foundation, Inc.\",\"logo\":{\"@type\":\"ImageObject\",\"url\":\"https:\\/\\/www.wikimedia.org\\/static\\/images\\/wmf-hor-googpub.png\"}},\"datePublished\":\"2018-01-02T11:45:04Z\",\"dateModified\":\"2020-11-23T10:10:58Z\",\"image\":\"https:\\/\\/upload.wikimedia.org\\/wikipedia\\/commons\\/f\\/f7\\/Protesters_at_the_endSARS_protest_in_Lagos%2C_Nigeria_92_-_cropped.jpg\",\"headline\":\"social movement against police brutality in Nigeria\"}(RLQ=window.RLQ||[]).push(function(){mw.config.set({\"wgBackendResponseTime\":162,\"wgHostname\":\"mw1368\"});});\")"
      ]
     },
     "execution_count": 4,
     "metadata": {},
     "output_type": "execute_result"
    }
   ],
   "source": [
    "text"
   ]
  },
  {
   "cell_type": "code",
   "execution_count": 5,
   "metadata": {},
   "outputs": [
    {
     "data": {
      "text/plain": [
       "9445"
      ]
     },
     "execution_count": 5,
     "metadata": {},
     "output_type": "execute_result"
    }
   ],
   "source": [
    "len(text.words)"
   ]
  },
  {
   "cell_type": "code",
   "execution_count": 6,
   "metadata": {},
   "outputs": [
    {
     "data": {
      "text/plain": [
       "WordList(['human rights', 'nigeria', 'end_sars'])"
      ]
     },
     "execution_count": 6,
     "metadata": {},
     "output_type": "execute_result"
    }
   ],
   "source": [
    "text.noun_phrases[50:53]"
   ]
  },
  {
   "cell_type": "code",
   "execution_count": 7,
   "metadata": {},
   "outputs": [
    {
     "data": {
      "text/plain": [
       "549"
      ]
     },
     "execution_count": 7,
     "metadata": {},
     "output_type": "execute_result"
    }
   ],
   "source": [
    "len(text.sentences)"
   ]
  },
  {
   "cell_type": "code",
   "execution_count": 8,
   "metadata": {},
   "outputs": [
    {
     "data": {
      "text/plain": [
       "('wgBreakFrames', 'NNS')"
      ]
     },
     "execution_count": 8,
     "metadata": {},
     "output_type": "execute_result"
    }
   ],
   "source": [
    "text.tags[5]"
   ]
  },
  {
   "cell_type": "code",
   "execution_count": 9,
   "metadata": {},
   "outputs": [],
   "source": [
    "from nltk.corpus import stopwords\n",
    "\n",
    "stop_word = stopwords.words('english')"
   ]
  },
  {
   "cell_type": "code",
   "execution_count": 10,
   "metadata": {},
   "outputs": [
    {
     "data": {
      "text/plain": [
       "2791"
      ]
     },
     "execution_count": 10,
     "metadata": {},
     "output_type": "execute_result"
    }
   ],
   "source": [
    "text_count = text.word_counts.items()\n",
    "len(text_count)"
   ]
  },
  {
   "cell_type": "code",
   "execution_count": 11,
   "metadata": {},
   "outputs": [],
   "source": [
    "#new text excluding the stop words\n",
    "new_text = [word for word in text_count if word[0] not in stop_word]"
   ]
  },
  {
   "cell_type": "code",
   "execution_count": 12,
   "metadata": {},
   "outputs": [
    {
     "data": {
      "text/plain": [
       "2689"
      ]
     },
     "execution_count": 12,
     "metadata": {},
     "output_type": "execute_result"
    }
   ],
   "source": [
    "len(new_text)"
   ]
  },
  {
   "cell_type": "code",
   "execution_count": 13,
   "metadata": {},
   "outputs": [],
   "source": [
    "from operator import itemgetter\n",
    "sorted_text = sorted(new_text, key= itemgetter(1), reverse = True)"
   ]
  },
  {
   "cell_type": "code",
   "execution_count": 14,
   "metadata": {},
   "outputs": [],
   "source": [
    "import pandas as pd\n",
    "top25 = sorted_text[0:26]\n",
    "df = pd.DataFrame(top25, columns= ['Word', 'Count'])"
   ]
  },
  {
   "cell_type": "code",
   "execution_count": 15,
   "metadata": {},
   "outputs": [
    {
     "data": {
      "text/html": [
       "<div>\n",
       "<style scoped>\n",
       "    .dataframe tbody tr th:only-of-type {\n",
       "        vertical-align: middle;\n",
       "    }\n",
       "\n",
       "    .dataframe tbody tr th {\n",
       "        vertical-align: top;\n",
       "    }\n",
       "\n",
       "    .dataframe thead th {\n",
       "        text-align: right;\n",
       "    }\n",
       "</style>\n",
       "<table border=\"1\" class=\"dataframe\">\n",
       "  <thead>\n",
       "    <tr style=\"text-align: right;\">\n",
       "      <th></th>\n",
       "      <th>Word</th>\n",
       "      <th>Count</th>\n",
       "    </tr>\n",
       "  </thead>\n",
       "  <tbody>\n",
       "    <tr>\n",
       "      <th>0</th>\n",
       "      <td>2020</td>\n",
       "      <td>182</td>\n",
       "    </tr>\n",
       "    <tr>\n",
       "      <th>1</th>\n",
       "      <td>october</td>\n",
       "      <td>169</td>\n",
       "    </tr>\n",
       "    <tr>\n",
       "      <th>2</th>\n",
       "      <td>police</td>\n",
       "      <td>134</td>\n",
       "    </tr>\n",
       "    <tr>\n",
       "      <th>3</th>\n",
       "      <td>endsars</td>\n",
       "      <td>130</td>\n",
       "    </tr>\n",
       "    <tr>\n",
       "      <th>4</th>\n",
       "      <td>protests</td>\n",
       "      <td>109</td>\n",
       "    </tr>\n",
       "    <tr>\n",
       "      <th>5</th>\n",
       "      <td>protesters</td>\n",
       "      <td>101</td>\n",
       "    </tr>\n",
       "    <tr>\n",
       "      <th>6</th>\n",
       "      <td>sars</td>\n",
       "      <td>94</td>\n",
       "    </tr>\n",
       "    <tr>\n",
       "      <th>7</th>\n",
       "      <td>nigeria</td>\n",
       "      <td>79</td>\n",
       "    </tr>\n",
       "    <tr>\n",
       "      <th>8</th>\n",
       "      <td>october2020</td>\n",
       "      <td>61</td>\n",
       "    </tr>\n",
       "    <tr>\n",
       "      <th>9</th>\n",
       "      <td>state</td>\n",
       "      <td>56</td>\n",
       "    </tr>\n",
       "    <tr>\n",
       "      <th>10</th>\n",
       "      <td>protest</td>\n",
       "      <td>48</td>\n",
       "    </tr>\n",
       "    <tr>\n",
       "      <th>11</th>\n",
       "      <td>end</td>\n",
       "      <td>44</td>\n",
       "    </tr>\n",
       "    <tr>\n",
       "      <th>12</th>\n",
       "      <td>brutality</td>\n",
       "      <td>44</td>\n",
       "    </tr>\n",
       "    <tr>\n",
       "      <th>13</th>\n",
       "      <td>nigerian</td>\n",
       "      <td>43</td>\n",
       "    </tr>\n",
       "    <tr>\n",
       "      <th>14</th>\n",
       "      <td>nigerians</td>\n",
       "      <td>43</td>\n",
       "    </tr>\n",
       "    <tr>\n",
       "      <th>15</th>\n",
       "      <td>lagos</td>\n",
       "      <td>41</td>\n",
       "    </tr>\n",
       "    <tr>\n",
       "      <th>16</th>\n",
       "      <td>mw-parser-output</td>\n",
       "      <td>38</td>\n",
       "    </tr>\n",
       "    <tr>\n",
       "      <th>17</th>\n",
       "      <td>since</td>\n",
       "      <td>38</td>\n",
       "    </tr>\n",
       "    <tr>\n",
       "      <th>18</th>\n",
       "      <td>governor</td>\n",
       "      <td>35</td>\n",
       "    </tr>\n",
       "    <tr>\n",
       "      <th>19</th>\n",
       "      <td>13</td>\n",
       "      <td>30</td>\n",
       "    </tr>\n",
       "    <tr>\n",
       "      <th>20</th>\n",
       "      <td>movement</td>\n",
       "      <td>26</td>\n",
       "    </tr>\n",
       "    <tr>\n",
       "      <th>21</th>\n",
       "      <td>unit</td>\n",
       "      <td>25</td>\n",
       "    </tr>\n",
       "    <tr>\n",
       "      <th>22</th>\n",
       "      <td>government</td>\n",
       "      <td>25</td>\n",
       "    </tr>\n",
       "    <tr>\n",
       "      <th>23</th>\n",
       "      <td>young</td>\n",
       "      <td>25</td>\n",
       "    </tr>\n",
       "    <tr>\n",
       "      <th>24</th>\n",
       "      <td>retrieved13</td>\n",
       "      <td>25</td>\n",
       "    </tr>\n",
       "    <tr>\n",
       "      <th>25</th>\n",
       "      <td>1</td>\n",
       "      <td>24</td>\n",
       "    </tr>\n",
       "  </tbody>\n",
       "</table>\n",
       "</div>"
      ],
      "text/plain": [
       "                Word  Count\n",
       "0               2020    182\n",
       "1            october    169\n",
       "2             police    134\n",
       "3            endsars    130\n",
       "4           protests    109\n",
       "5         protesters    101\n",
       "6               sars     94\n",
       "7            nigeria     79\n",
       "8        october2020     61\n",
       "9              state     56\n",
       "10           protest     48\n",
       "11               end     44\n",
       "12         brutality     44\n",
       "13          nigerian     43\n",
       "14         nigerians     43\n",
       "15             lagos     41\n",
       "16  mw-parser-output     38\n",
       "17             since     38\n",
       "18          governor     35\n",
       "19                13     30\n",
       "20          movement     26\n",
       "21              unit     25\n",
       "22        government     25\n",
       "23             young     25\n",
       "24       retrieved13     25\n",
       "25                 1     24"
      ]
     },
     "execution_count": 15,
     "metadata": {},
     "output_type": "execute_result"
    }
   ],
   "source": [
    "df"
   ]
  },
  {
   "cell_type": "code",
   "execution_count": 16,
   "metadata": {},
   "outputs": [],
   "source": [
    "top200 = sorted_text[0:201]\n",
    "top200 = dict(top200)"
   ]
  },
  {
   "cell_type": "code",
   "execution_count": 17,
   "metadata": {},
   "outputs": [
    {
     "data": {
      "image/png": "[encoded data removed]",
      "text/plain": [
       "<Figure size 432x288 with 1 Axes>"
      ]
     },
     "metadata": {
      "needs_background": "light"
     },
     "output_type": "display_data"
    }
   ],
   "source": [
    "import matplotlib.pyplot as plt\n",
    "axes = df.plot.bar(x='Word', y='Count')\n",
    "plt.gcf().tight_layout()"
   ]
  },
  {
   "cell_type": "code",
   "execution_count": 33,
   "metadata": {},
   "outputs": [],
   "source": [
    "import imageio\n",
    "\n",
    "mask_image = imageio.imread('star.png')"
   ]
  },
  {
   "cell_type": "code",
   "execution_count": 35,
   "metadata": {},
   "outputs": [
    {
     "name": "stdout",
     "output_type": "stream",
     "text": [
      "Using matplotlib backend: Qt5Agg\n"
     ]
    },
    {
     "data": {
      "text/plain": [
       "<matplotlib.image.AxesImage at 0x167919df848>"
      ]
     },
     "execution_count": 35,
     "metadata": {},
     "output_type": "execute_result"
    }
   ],
   "source": [
    "from wordcloud import WordCloud\n",
    "\n",
    "wordcloud  = WordCloud(colormap = 'prism', mask = mask_image, background_color = 'white')\n",
    "wordcloud = wordcloud.generate(text)\n",
    "wordcloud = wordcloud.to_file('protest_new.png')\n",
    "%matplotlib\n",
    "plt.imshow(wordcloud)"
   ]
  },
  {
   "cell_type": "code",
   "execution_count": null,
   "metadata": {},
   "outputs": [],
   "source": []
  }
 ],
 "metadata": {
  "kernelspec": {
   "display_name": "Python 3",
   "language": "python",
   "name": "python3"
  },
  "language_info": {
   "codemirror_mode": {
    "name": "ipython",
    "version": 3
   },
   "file_extension": ".py",
   "mimetype": "text/x-python",
   "name": "python",
   "nbconvert_exporter": "python",
   "pygments_lexer": "ipython3",
   "version": "3.7.6"
  }
 },
 "nbformat": 4,
 "nbformat_minor": 4
}
